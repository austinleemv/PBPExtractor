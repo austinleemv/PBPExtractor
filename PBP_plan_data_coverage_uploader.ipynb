{
 "cells": [
  {
   "cell_type": "code",
   "execution_count": 1,
   "metadata": {},
   "outputs": [],
   "source": [
    "import pandas as pd\n",
    "import pyodbc\n",
    "import os\n",
    "import re\n",
    "import urllib\n",
    "import numpy as np\n",
    "from sqlalchemy import create_engine"
   ]
  },
  {
   "cell_type": "code",
   "execution_count": 2,
   "metadata": {},
   "outputs": [],
   "source": [
    "PLAN_YEAR = 2025\n",
    "CATASTROPHIC_LIMIT = 2000\n",
    "DR_TARGET_FOLDER = 'PBP_Benefits_2025_Results/'\n",
    "PLAN_DATA_FILE = f'Plans'\n",
    "BENEFIT_DATA_FILE = f'MedicareBenefits'\n",
    "PLAN_COVERAGE_DATA_FILE = f'PlanCoverage'\n",
    "\n",
    "SQL_CONNECTION_PARAMETERS = {    \n",
    "    \"SERVER\": 'docurobot-dev.cmba97i2bfdq.us-east-1.rds.amazonaws.com',\n",
    "    \"DATABASE\":  'PBP_2025',\n",
    "    \"USERNAME\": 'alee',\n",
    "    \"PASSWORD\": 'P@$$w0rd'\n",
    "}"
   ]
  },
  {
   "cell_type": "code",
   "execution_count": 3,
   "metadata": {},
   "outputs": [],
   "source": [
    "def read_pd_from_csv_file(file_path):\n",
    "    return pd.read_csv(file_path + '.csv')\n",
    "\n",
    "def get_db_connection():\n",
    "    connectionString = f\"DRIVER={{ODBC Driver 17 for SQL Server}};SERVER={SQL_CONNECTION_PARAMETERS['SERVER']};DATABASE={SQL_CONNECTION_PARAMETERS['DATABASE']};UID={SQL_CONNECTION_PARAMETERS['USERNAME']};PWD={SQL_CONNECTION_PARAMETERS['PASSWORD']}\"\n",
    "    conn = pyodbc.connect(connectionString)\n",
    "    return conn\n",
    "\n",
    "def get_db_engine():\n",
    "    # Define your SQLAlchemy engine (adjust server and database names)\n",
    "    engine = create_engine(\n",
    "        f\"mssql+pyodbc://{SQL_CONNECTION_PARAMETERS['USERNAME']}:{urllib.parse.quote(SQL_CONNECTION_PARAMETERS['PASSWORD'])}@{SQL_CONNECTION_PARAMETERS['SERVER']}/{SQL_CONNECTION_PARAMETERS['DATABASE']}?driver=SQL Server Native Client 11.0\"\n",
    "    )\n",
    "    return engine"
   ]
  },
  {
   "cell_type": "code",
   "execution_count": 4,
   "metadata": {},
   "outputs": [],
   "source": [
    "\n",
    "df_plans =  pd.read_csv(os.path.join(DR_TARGET_FOLDER, PLAN_DATA_FILE) + '.csv', dtype={\"PlanID\": str, \"SegmentID\": str})\n",
    "df_medicalbenefits = read_pd_from_csv_file(os.path.join(DR_TARGET_FOLDER, BENEFIT_DATA_FILE))\n",
    "df_plancoverages = pd.read_csv(os.path.join(DR_TARGET_FOLDER, PLAN_COVERAGE_DATA_FILE) + '.csv', dtype={\"PlanID\": str, \"SegmentID\": str, \"SSAFIPS\": str, \"CountyFIPS\": str})"
   ]
  },
  {
   "cell_type": "code",
   "execution_count": 5,
   "metadata": {},
   "outputs": [],
   "source": [
    "def get_plan_type_code(plantype):\n",
    "    if plantype == 'PDP':\n",
    "        return 10\n",
    "    if plantype == 'MA':\n",
    "        return 20\n",
    "    return 30\n",
    "\n",
    "def get_snp_ind(SNP_type):\n",
    "    if SNP_type == 'I-SNP':\n",
    "        return 3    \n",
    "    if SNP_type == 'D-SNP':\n",
    "        return 2\n",
    "    if SNP_type == 'C-SNP':\n",
    "        return 1\n",
    "    return np.nan\n",
    "\n",
    "def get_medical_plan_type_code(medical_plan_type):\n",
    "\t'''\n",
    "\tSource: hpms.dbo.f_getMedicalPlanTypeCode\n",
    "\t'''\n",
    "\tif medical_plan_type is not None:\n",
    "\t\tif medical_plan_type == 'HMO':return 10\n",
    "\t\tif medical_plan_type == 'HMOPOS': return 120 #\n",
    "\t\tif medical_plan_type == 'Local PPO': return 140 #\n",
    "\t\tif medical_plan_type == 'PSO (State License)': return 230 ##??\n",
    "\t\tif medical_plan_type == 'MSA': return 110 ##??\n",
    "\t\tif medical_plan_type == 'RFB PFFS': return 240 ##??\n",
    "\t\tif medical_plan_type == 'PFFS': return 220 #\n",
    "\t\tif medical_plan_type == '1876 Cost': return 80 ##?? cost plan?\n",
    "\t\tif medical_plan_type == 'HCPP - 1833 Cost': return 80 ##?? cost plan?\n",
    "\t\tif medical_plan_type == 'National Pace': return 90 ##??\n",
    "\t\tif medical_plan_type == 'Medicare Prescription Drug Plan': return 190 # # PDP\n",
    "\t\tif medical_plan_type == 'Employer/Union Only Direct Contract PDP': return 190#  # PDP\n",
    "\t\tif medical_plan_type == 'Regional PPO': return 130 # # RPPO\n",
    "\t\tif medical_plan_type == 'RPPO': return 130 # # RPPO\n",
    "\t\tif medical_plan_type == 'Fallback': return 250 ##??\n",
    "\t\tif medical_plan_type == 'Employer/Union Only Direct Contract PFFS': return 70 ## PFFS\n",
    "\t\tif medical_plan_type == 'RFB HMO': return 260 #\n",
    "\t\tif medical_plan_type == 'RFB HMOPOS': return 270 #\n",
    "\t\tif medical_plan_type == 'RFB Local PPO': return 280 #\n",
    "\t\tif medical_plan_type == 'RFB PSO (State License)': return 290 #\n",
    "\t\tif medical_plan_type == 'Employer Direct PPO': return 300 #\n",
    "\t\tif medical_plan_type == 'MMP HMO': return 100 #\n",
    "\t\tif medical_plan_type == 'MMP HMOPOS': return 100 #\n",
    "\treturn 0 #'unknown'"
   ]
  },
  {
   "cell_type": "code",
   "execution_count": 6,
   "metadata": {},
   "outputs": [],
   "source": [
    "# convert text to DR DB Type code\n",
    "df_plans['PlanID'] = df_plans['PlanID'].apply(lambda x: ('00' + x)[-3:])\n",
    "df_plans['SegmentID'] = df_plans['SegmentID'].apply(lambda x: ('00' + x)[-3:])\n",
    "df_plans['PlanTypeCode'] = df_plans['PlanType'].apply(lambda x: get_plan_type_code(x))\n",
    "df_plans['SNPIND'] = df_plans['SNPType'].apply(lambda x: get_snp_ind(x))\n",
    "df_plans['CatastrophicLimit'] = df_plans['PlanType'].apply(lambda x: np.nan if x == 'MA' else CATASTROPHIC_LIMIT)\n",
    "df_plans['MedicalPlanTypeCode'] = df_plans['MedicalPlanType'].apply(lambda x: get_medical_plan_type_code(x))"
   ]
  },
  {
   "cell_type": "code",
   "execution_count": 7,
   "metadata": {},
   "outputs": [],
   "source": [
    "# upload datasets\n",
    "uploading_qids = [f\"'{qid}'\" for qid in df_plans['QID'].drop_duplicates().to_list()]\n",
    "delete_plans_query = f'''\n",
    "delete from Plans where planyear = {PLAN_YEAR} and QID in ({','.join(uploading_qids)});\n",
    "delete from MedicalBenefits where planyear = {PLAN_YEAR} and QID in ({','.join(uploading_qids)});\n",
    "delete from PlanCoverages where planyear = {PLAN_YEAR} and QID in ({','.join(uploading_qids)});\n",
    "'''\n",
    "cur = get_db_connection().cursor()\n",
    "cur.execute(delete_plans_query)\n",
    "cur.commit()"
   ]
  },
  {
   "cell_type": "code",
   "execution_count": 8,
   "metadata": {},
   "outputs": [
    {
     "data": {
      "text/plain": [
       "152"
      ]
     },
     "execution_count": 8,
     "metadata": {},
     "output_type": "execute_result"
    }
   ],
   "source": [
    "df_plans.to_sql(name=\"Plans\", index=False, con=get_db_engine(), if_exists='append')\n",
    "df_medicalbenefits.to_sql(name=\"MedicalBenefits\", index=False, con=get_db_engine(), if_exists='append')\n",
    "df_plancoverages.to_sql(name=\"PlanCoverages\", index=False, con=get_db_engine(), if_exists='append')"
   ]
  }
 ],
 "metadata": {
  "kernelspec": {
   "display_name": "Python 3",
   "language": "python",
   "name": "python3"
  },
  "language_info": {
   "codemirror_mode": {
    "name": "ipython",
    "version": 3
   },
   "file_extension": ".py",
   "mimetype": "text/x-python",
   "name": "python",
   "nbconvert_exporter": "python",
   "pygments_lexer": "ipython3",
   "version": "3.11.9"
  }
 },
 "nbformat": 4,
 "nbformat_minor": 2
}
