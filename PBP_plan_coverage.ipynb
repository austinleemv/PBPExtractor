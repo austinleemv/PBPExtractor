{
 "cells": [
  {
   "cell_type": "code",
   "execution_count": 1,
   "metadata": {},
   "outputs": [],
   "source": [
    "from pyspark.sql import SparkSession\n",
    "from pyspark.sql.functions import udf\n",
    "import pandas as pd\n",
    "import pyodbc\n",
    "import numpy as np\n",
    "import os\n",
    "import json"
   ]
  },
  {
   "cell_type": "code",
   "execution_count": 2,
   "metadata": {},
   "outputs": [],
   "source": [
    "spark = SparkSession.builder.appName(\"PBPPlanBuilder\").getOrCreate()"
   ]
  },
  {
   "cell_type": "code",
   "execution_count": 3,
   "metadata": {},
   "outputs": [],
   "source": [
    "PLAN_YEAR = 2024\n",
    "DR_TARGET_FOLDER = 'PBP_Benefits_2025_Results/'\n",
    "BENEFIT_DATA_FILE = f'MedicareBenefits'\n",
    "COMPARISON_RESULT_FILE = 'comparison_result'\n",
    "MEDICARE_CRAWLED_DATA = 'MedicareCrawledData'\n",
    "PBP_SOURCE_FOLDER = 'PBP_Benefits_2025/'\n",
    "REGION_CODE = 'RegionCode'"
   ]
  },
  {
   "cell_type": "code",
   "execution_count": 9,
   "metadata": {},
   "outputs": [],
   "source": [
    "def read_pd_from_csv_file(file_name):\n",
    "    return pd.read_csv(DR_TARGET_FOLDER + file_name + '.csv')\n",
    "\n",
    "def write_pd_to_csv(df, file_name):\n",
    "    df.to_csv(DR_TARGET_FOLDER + file_name + '.csv', index=False)\n",
    "    \n",
    "def get_medicare_site_url(qid):\n",
    "    contractid = qid[:5]\n",
    "    planid = qid[5:8]\n",
    "    segmentid = qid[8:]\n",
    "    return f'https://www.medicare.gov/plan-compare/#/plan-details/{PLAN_YEAR}-{contractid}-{planid}-{int(segmentid)}?year={PLAN_YEAR}&lang=en#benefits'\n",
    "\n",
    "def run_query_in_db(query, database):\n",
    "    # Create a connection to the database\n",
    "    with open('credentials.json', 'r') as file:\n",
    "        data = json.load(file)\n",
    "        connectionString = data[database]\n",
    "        connectionString = (\n",
    "            \"DRIVER={ODBC Driver 17 for SQL Server};\"\n",
    "            \"SERVER=docurobot-dev.cmba97i2bfdq.us-east-1.rds.amazonaws.com;\"\n",
    "            f\"DATABASE={database};\"\n",
    "            \"UID=alee;\"\n",
    "            \"PWD=P@$$w0rd\"\n",
    "        )\n",
    "        conn = pyodbc.connect(connectionString)\n",
    "        return pd.read_sql_query(query, conn)"
   ]
  },
  {
   "cell_type": "code",
   "execution_count": 5,
   "metadata": {},
   "outputs": [],
   "source": [
    "# load all required files\n",
    "def load_csv(csv_file_path):\n",
    "    return spark.read.format(\"csv\") \\\n",
    "    .option(\"delimiter\", \"\\t\") \\\n",
    "    .option(\"header\", \"true\") \\\n",
    "    .option(\"inferSchema\", \"true\") \\\n",
    "    .load(csv_file_path)\n",
    "\n",
    "# drop views from memory if the view exist\n",
    "for t in spark.catalog.listTables():\n",
    "    spark.catalog.dropTempView(t.name)"
   ]
  },
  {
   "cell_type": "code",
   "execution_count": 6,
   "metadata": {},
   "outputs": [],
   "source": [
    "# drop views from memory if the view exist\n",
    "for t in spark.catalog.listTables():\n",
    "    spark.catalog.dropTempView(t.name)\n",
    "\n",
    "# load PlanArea    \n",
    "df_pbp_plan_area = load_csv(PBP_SOURCE_FOLDER + 'PlanArea.txt')\n",
    "df_pbp_plan_area.createTempView('PlanArea')\n",
    "\n",
    "\n",
    "# load PlanRegionArea    \n",
    "df_pbp_plan_regions = load_csv(PBP_SOURCE_FOLDER + 'PlanRegionArea.txt')\n",
    "df_pbp_plan_regions.createTempView('PlanRegionArea')"
   ]
  },
  {
   "cell_type": "code",
   "execution_count": 7,
   "metadata": {},
   "outputs": [],
   "source": [
    "def convert_to_n_digit_str(num, digits):\n",
    "    num_str = str(num)\n",
    "    if len(num_str) < digits:\n",
    "        num_str = ('0' * digits + num_str)[0-digits:]\n",
    "    return num_str"
   ]
  },
  {
   "cell_type": "code",
   "execution_count": 10,
   "metadata": {},
   "outputs": [
    {
     "name": "stderr",
     "output_type": "stream",
     "text": [
      "C:\\Users\\ajl0618\\AppData\\Local\\Temp\\ipykernel_8112\\3848732615.py:26: UserWarning: pandas only supports SQLAlchemy connectable (engine/connection) or database string URI or sqlite3 DBAPI2 connection. Other DBAPI2 objects are not tested. Please consider using SQLAlchemy.\n",
      "  return pd.read_sql_query(query, conn)\n"
     ]
    }
   ],
   "source": [
    "countyfips_data_query = '''\n",
    "select CountyFIPS, SSAFIPS, StateAbbr\n",
    "from ZipcodeCounties where isactive = 1\n",
    "group by CountyFIPS, SSAFIPS, StateAbbr\n",
    "  '''\n",
    "\n",
    "df_county_fips = run_query_in_db(countyfips_data_query, 'Docurobot')\n",
    "df_county_fips['SSAFIPS'] = df_county_fips['SSAFIPS'].apply(lambda x: convert_to_n_digit_str(x, 5))\n",
    "df_county_fips['CountyFIPS'] = df_county_fips['CountyFIPS'].apply(lambda x: convert_to_n_digit_str(x, 5))\n",
    "write_pd_to_csv(df_county_fips, \"CountyFIPS\")\n",
    "\n",
    "\n",
    "CMS_REGION_CODE_FILE = f'{DR_TARGET_FOLDER}{REGION_CODE}.csv'\n",
    "\n",
    "if os.path.exists(CMS_REGION_CODE_FILE):\n",
    "  df_region_code = pd.read_csv(CMS_REGION_CODE_FILE)\n",
    "else:\n",
    "  region_code_query = '''\n",
    "  (select [COUNTY_CODE] as SSAFIPS\n",
    "        ,[STATENAME]\n",
    "        ,[COUNTY] as CountyName\n",
    "        ,[MA_REGION_CODE] as ma_or_pdp_region_code\n",
    "        ,[MA_REGION] as region\n",
    "      ,'MA' as region_type\n",
    "    FROM CMS.[dbo].[GeoLocation]\n",
    "    group by [COUNTY_CODE]\n",
    "        ,[STATENAME]\n",
    "        ,[COUNTY]\n",
    "        ,[MA_REGION_CODE]\n",
    "        ,[MA_REGION]\n",
    "\t\t)\n",
    "\t\tunion (\n",
    "  select [COUNTY_CODE] as SSAFIPS\n",
    "        ,[STATENAME]\n",
    "        ,[COUNTY] as CountyName\n",
    "        ,[PDP_REGION_CODE] as ma_or_pdp_region_code\n",
    "        ,[PDP_REGION] as region, \n",
    "\t\t'PD' as region_type\n",
    "    FROM CMS.[dbo].[GeoLocation]\n",
    "    group by [COUNTY_CODE]\n",
    "        ,[STATENAME]\n",
    "        ,[COUNTY]\n",
    "        ,[PDP_REGION_CODE]\n",
    "        ,[PDP_REGION]\n",
    "\t\t)\n",
    "    '''\n",
    "  df_region_code = run_query_in_db(region_code_query, 'CMS')\n",
    "  df_region_code= pd.merge(df_region_code, df_county_fips, how='inner', on=[ 'SSAFIPS'])\n",
    "  write_pd_to_csv(df_region_code, \"RegionCode\")\n"
   ]
  },
  {
   "cell_type": "code",
   "execution_count": 11,
   "metadata": {},
   "outputs": [],
   "source": [
    "df_pbp_plan_area = df_pbp_plan_area[['contract_year', 'pbp_a_hnumber', 'pbp_a_plan_identifier', 'segment_id2', 'county', 'stcd', 'county_code']].toPandas()\n",
    "df_pbp_plan_regions = df_pbp_plan_regions[['contract_year', 'pbp_a_hnumber', 'pbp_a_plan_identifier', 'segment_id2', 'region_type','ma_or_pdp_region_code','region']].toPandas()"
   ]
  },
  {
   "cell_type": "code",
   "execution_count": 12,
   "metadata": {},
   "outputs": [],
   "source": [
    "df_pbp_plan_regions.columns = ['PlanYear', 'ContractID', 'PlanID', 'SegmentID', 'region_type','ma_or_pdp_region_code','region']\n",
    "df_pbp_plan_regions['PlanID'] = df_pbp_plan_regions['PlanID'].apply(lambda x: convert_to_n_digit_str(x, 3))\n",
    "df_pbp_plan_regions['SegmentID'] = df_pbp_plan_regions['SegmentID'].apply(lambda x: convert_to_n_digit_str(x, 3))\n",
    "df_pbp_plan_regions['ma_or_pdp_region_code'] = df_pbp_plan_regions['ma_or_pdp_region_code'].apply(lambda x: convert_to_n_digit_str(x, 2))\n",
    "df_region_code['ma_or_pdp_region_code'] = df_region_code['ma_or_pdp_region_code'].apply(lambda x: convert_to_n_digit_str(x, 2))\n",
    "df_pbp_plan_regions['QID'] = df_pbp_plan_regions.apply(lambda x: x['ContractID'] + x['PlanID'] + x['SegmentID'], axis=1)\n",
    "df_pbp_plan_regions= pd.merge(df_pbp_plan_regions, df_region_code, how='inner', on=['region_type','ma_or_pdp_region_code','region'])\n",
    "write_pd_to_csv(df_pbp_plan_regions, \"PlanRegion\")"
   ]
  },
  {
   "cell_type": "code",
   "execution_count": 13,
   "metadata": {},
   "outputs": [],
   "source": [
    "# modify fields for plan area\n",
    "df_pbp_plan_area.columns = ['PlanYear', 'ContractID', 'PlanID', 'SegmentID', 'CountyName','StateAbbr', 'SSAFIPS']\n",
    "df_pbp_plan_area['PlanID'] = df_pbp_plan_area['PlanID'].apply(lambda x: convert_to_n_digit_str(x, 3))\n",
    "df_pbp_plan_area['SegmentID'] = df_pbp_plan_area['SegmentID'].apply(lambda x: convert_to_n_digit_str(x, 3))\n",
    "df_pbp_plan_area['SSAFIPS'] = df_pbp_plan_area['SSAFIPS'].apply(lambda x: convert_to_n_digit_str(x, 5))\n",
    "df_pbp_plan_area['QID'] = df_pbp_plan_area.apply(lambda x: x['ContractID'] + x['PlanID'] + x['SegmentID'], axis=1)\n",
    "df_pbp_plan_area= pd.merge(df_pbp_plan_area, df_county_fips, how='inner', on=['StateAbbr', 'SSAFIPS'])\n",
    "write_pd_to_csv(df_pbp_plan_area, \"PlanArea\")"
   ]
  },
  {
   "cell_type": "code",
   "execution_count": 14,
   "metadata": {},
   "outputs": [
    {
     "ename": "",
     "evalue": "",
     "output_type": "error",
     "traceback": [
      "\u001b[1;31mThe Kernel crashed while executing code in the the current cell or a previous cell. Please review the code in the cell(s) to identify a possible cause of the failure. Click <a href='https://aka.ms/vscodeJupyterKernelCrash'>here</a> for more info. View Jupyter <a href='command:jupyter.viewOutput'>log</a> for further details."
     ]
    }
   ],
   "source": [
    "target_columns = ['PlanYear','ContractID','PlanID','SegmentID','QID','StateAbbr','CountyName','SSAFIPS','CountyFIPS']\n",
    "df_plan_coverages = pd.concat([df_pbp_plan_regions[target_columns], df_pbp_plan_area[target_columns]])\n",
    "write_pd_to_csv(df_plan_coverages, \"PlanCoverage\")"
   ]
  }
 ],
 "metadata": {
  "kernelspec": {
   "display_name": "Python 3",
   "language": "python",
   "name": "python3"
  },
  "language_info": {
   "codemirror_mode": {
    "name": "ipython",
    "version": 3
   },
   "file_extension": ".py",
   "mimetype": "text/x-python",
   "name": "python",
   "nbconvert_exporter": "python",
   "pygments_lexer": "ipython3",
   "version": "3.11.9"
  }
 },
 "nbformat": 4,
 "nbformat_minor": 2
}
