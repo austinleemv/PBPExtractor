{
 "cells": [
  {
   "cell_type": "code",
   "execution_count": 1,
   "metadata": {},
   "outputs": [],
   "source": [
    "import pandas as pd\n",
    "import pyodbc\n",
    "import os\n",
    "import re"
   ]
  },
  {
   "cell_type": "code",
   "execution_count": 2,
   "metadata": {},
   "outputs": [],
   "source": [
    "PLAN_YEAR = 2024\n",
    "DR_TARGET_FOLDER = 'PBP_Benefits_2024_Results/'\n",
    "BENEFIT_DATA_FILE = f'MedicareBenefits'\n",
    "COMPARISON_RESULT_FILE = 'comparison_result'\n",
    "# MEDICARE_CRAWLED_DATA = 'MedicareCrawledData'\n",
    "MEDICARE_CRAWLED_DATA = 'MedicalBenefits_PBPJSON_20240521'"
   ]
  },
  {
   "cell_type": "code",
   "execution_count": 3,
   "metadata": {},
   "outputs": [],
   "source": [
    "def read_pd_from_csv_file(file_name):\n",
    "    return pd.read_csv(DR_TARGET_FOLDER + file_name + '.csv')\n",
    "\n",
    "def write_pd_to_csv(df, file_name):\n",
    "    df.to_csv(DR_TARGET_FOLDER + file_name + '.csv', index=False)\n",
    "    \n",
    "def get_medicare_site_url(qid):\n",
    "    contractid = qid[:5]\n",
    "    planid = qid[5:8]\n",
    "    segmentid = qid[8:]\n",
    "    return f'https://www.medicare.gov/plan-compare/#/plan-details/{PLAN_YEAR}-{contractid}-{planid}-{int(segmentid)}?year={PLAN_YEAR}&lang=en#benefits'\n",
    "\n",
    "def run_query_in_db(query, database):\n",
    "    # Create a connection to the database\n",
    "    SERVER = 'docurobot-dev.cmba97i2bfdq.us-east-1.rds.amazonaws.com'\n",
    "    DATABASE =  database\n",
    "    USERNAME = 'alee'\n",
    "    PASSWORD = 'P@$$w0rd'\n",
    "    connectionString = f'DRIVER={{ODBC Driver 17 for SQL Server}};SERVER={SERVER};DATABASE={DATABASE};UID={USERNAME};PWD={PASSWORD}'\n",
    "\n",
    "    conn = pyodbc.connect(connectionString)\n",
    "    return pd.read_sql_query(query, conn)"
   ]
  },
  {
   "cell_type": "code",
   "execution_count": 4,
   "metadata": {},
   "outputs": [],
   "source": [
    "'''\n",
    "Matching DF for DR..MedicalBenefits\n",
    "'''\n",
    "medicare_crawled_data_file_path = f'{DR_TARGET_FOLDER}{MEDICARE_CRAWLED_DATA}.csv'\n",
    "\n",
    "if os.path.exists(medicare_crawled_data_file_path):\n",
    "  df_medicare_displaying_benefits = read_pd_from_csv_file(MEDICARE_CRAWLED_DATA)\n",
    "else:\n",
    "    \n",
    "  # Mediare crawled data\n",
    "  medicare_data_query = '''\n",
    "    select b.PlanYear, BF.QID, CategoryName, ServiceName, \n",
    "    trim(ServiceType) as Network, costShare as CostShare\n",
    "    from UIPath..Benefits bf \n",
    "    inner join UIPath..Batches b on bf.batchID = b.batchID and b.planyear = bf.planYear\n",
    "    inner join DocuRobot..vv_plans p on p.qid = bf.qid and p.planyear = b.planyear\n",
    "    inner join DocuRobot..ApplicationPlan ap on ap.planid = p.planid\n",
    "    left join DocuRobot..ExcludedPlans er on ap.applicationID = er.applicationID and er.planID = ap.planID\n",
    "    where b.planYear = 2024 \n",
    "    and ap.applicationID = 183 and er.planID is null and p.carrierID > 0\n",
    "    and bf.batchID = 252\n",
    "    group by b.PlanYear, BF.QID, CategoryName, serviceName, ServiceType, costShare\n",
    "  '''\n",
    "\n",
    "  medicare_data_query = '''\n",
    "    select b.PlanYear, BF.QID, p.PlanName, p.MedicalPlanType as PlanType, CategoryName, ServiceName, \n",
    "    trim(ServiceType) as Network, costShare as CostShare\n",
    "    from UIPath..Benefits bf \n",
    "    inner join UIPath..Batches b on bf.batchID = b.batchID and b.planyear = bf.planYear\n",
    "    inner join DocuRobot..vv_plans p on p.qid = bf.qid and p.planyear = b.planyear\n",
    "    where b.planYear = 2024 \n",
    "    and bf.batchID = 252\n",
    "    group by b.PlanYear, BF.QID, CategoryName, serviceName, ServiceType, costShare, p.PlanName, p.MedicalPlanType\n",
    "  '''\n",
    "\n",
    "  df_medicare_displaying_benefits = run_query_in_db(medicare_data_query, 'Docurobot')\n",
    "  write_pd_to_csv(df_medicare_displaying_benefits, MEDICARE_CRAWLED_DATA)\n",
    "\n",
    "#utility method to compare\n",
    "def purify_cost_share(benefit):\n",
    "  if benefit is not None:\n",
    "    benefit = benefit.strip().lower().replace('not covered','not applicable')\n",
    "    benefit = benefit.strip().lower().replace(' or ', ', ').replace('<br/>', '').replace('<br />', '').replace('\\r','')\n",
    "    benefit = benefit.strip().lower().replace('(limits apply)','').replace('(always covered)','')\n",
    "    benefit = benefit.replace(' per item', '').replace('(always covered)','')\n",
    "    benefit = re.sub('maximum \\d+ (other|(every (year|\\d? years)))', '', benefit)\n",
    "    if benefit.strip() == f\"$0 copay, 0% coinsurance\":\n",
    "      benefit = '$0 copay'\n",
    "    if benefit.strip() == f'0% coinsurance':\n",
    "      benefit = '$0 copay'\n",
    "  return benefit\n",
    "#utility method to compare\n",
    "def matched(benefit1, benefit2):\n",
    "  if benefit1 is not None and benefit2 is not None:\n",
    "    benefit1 = purify_cost_share(benefit1)\n",
    "    benefit2 = purify_cost_share(benefit2)    \n",
    "      \n",
    "    benefit1 = benefit1.replace('.', '').replace('$', '').replace('%', '').replace(' ', '').replace(',', '')\n",
    "    benefit2 = benefit2.replace('.', '').replace('$', '').replace('%', '').replace(' ', '').replace(',', '')\n",
    "    return benefit1 == benefit2\n",
    "  return False"
   ]
  },
  {
   "cell_type": "code",
   "execution_count": 5,
   "metadata": {},
   "outputs": [],
   "source": [
    "pandas_df_medicalbenefits = read_pd_from_csv_file(BENEFIT_DATA_FILE)"
   ]
  },
  {
   "cell_type": "code",
   "execution_count": 6,
   "metadata": {},
   "outputs": [],
   "source": [
    "# prepare medicare data to compare\n",
    "df_medicare_displaying_benefits.fillna('', inplace=True)\n",
    "#Excluded Limits apply and Always covered\n",
    "pandas_df_medicalbenefits.fillna('', inplace=True)\n",
    "pandas_df_medicalbenefits['CostShare'] = pandas_df_medicalbenefits.apply(lambda x: x.CostShare.replace('(Limits apply)', ''), axis=1)"
   ]
  },
  {
   "cell_type": "code",
   "execution_count": 7,
   "metadata": {},
   "outputs": [],
   "source": [
    "#validate benefit \n",
    "# pandas_df_medicalbenefits = pandas_df_medicalbenefits[(pandas_df_medicalbenefits.ServiceName == 'Maximum you pay for health services') & (pandas_df_medicalbenefits.QID == 'H0074004000')]\n",
    "# pandas_df_medicalbenefits = pandas_df_medicalbenefits[(pandas_df_medicalbenefits.QID =='H0028007000') & (pandas_df_medicalbenefits.ServiceName == 'Hearing aids - all types')]\n",
    "joined_df= pd.merge(pandas_df_medicalbenefits, df_medicare_displaying_benefits, how='inner', on=['PlanYear','QID', 'CategoryName', 'ServiceName', 'Network'])\n",
    "joined_df['Matched'] = joined_df.apply(lambda x: matched(x.CostShare_x, x.CostShare_y), axis=1)\n",
    "joined_df['Medicare.gov URL'] = joined_df.apply(lambda x: get_medicare_site_url(x.QID), axis=1)\n",
    "\n",
    "write_pd_to_csv(joined_df, COMPARISON_RESULT_FILE)"
   ]
  }
 ],
 "metadata": {
  "kernelspec": {
   "display_name": "Python 3",
   "language": "python",
   "name": "python3"
  },
  "language_info": {
   "codemirror_mode": {
    "name": "ipython",
    "version": 3
   },
   "file_extension": ".py",
   "mimetype": "text/x-python",
   "name": "python",
   "nbconvert_exporter": "python",
   "pygments_lexer": "ipython3",
   "version": "3.11.9"
  }
 },
 "nbformat": 4,
 "nbformat_minor": 2
}
